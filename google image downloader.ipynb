{
 "cells": [
  {
   "cell_type": "code",
   "execution_count": 1,
   "id": "de8d12ac-98e1-4f4d-92b9-3e0a00c5c8b0",
   "metadata": {},
   "outputs": [
    {
     "name": "stdout",
     "output_type": "stream",
     "text": [
      "Requirement already satisfied: google-images-downloader in c:\\users\\nikhi\\anaconda3\\lib\\site-packages (1.0.16)\n",
      "Requirement already satisfied: selenium>=4.11.2 in c:\\users\\nikhi\\anaconda3\\lib\\site-packages (from google-images-downloader) (4.23.1)\n",
      "Requirement already satisfied: requests>=2.31.0 in c:\\users\\nikhi\\anaconda3\\lib\\site-packages (from google-images-downloader) (2.31.0)\n",
      "Requirement already satisfied: Pillow>=10.0.0 in c:\\users\\nikhi\\anaconda3\\lib\\site-packages (from google-images-downloader) (10.2.0)\n",
      "Requirement already satisfied: tqdm>=4.66.1 in c:\\users\\nikhi\\anaconda3\\lib\\site-packages (from google-images-downloader) (4.66.5)\n",
      "Requirement already satisfied: psutil>=5.9.5 in c:\\users\\nikhi\\anaconda3\\lib\\site-packages (from google-images-downloader) (6.0.0)\n",
      "Requirement already satisfied: charset-normalizer<4,>=2 in c:\\users\\nikhi\\anaconda3\\lib\\site-packages (from requests>=2.31.0->google-images-downloader) (2.0.4)\n",
      "Requirement already satisfied: idna<4,>=2.5 in c:\\users\\nikhi\\anaconda3\\lib\\site-packages (from requests>=2.31.0->google-images-downloader) (3.4)\n",
      "Requirement already satisfied: urllib3<3,>=1.21.1 in c:\\users\\nikhi\\anaconda3\\lib\\site-packages (from requests>=2.31.0->google-images-downloader) (1.26.19)\n",
      "Requirement already satisfied: certifi>=2017.4.17 in c:\\users\\nikhi\\anaconda3\\lib\\site-packages (from requests>=2.31.0->google-images-downloader) (2024.2.2)\n",
      "Requirement already satisfied: trio~=0.17 in c:\\users\\nikhi\\anaconda3\\lib\\site-packages (from selenium>=4.11.2->google-images-downloader) (0.26.2)\n",
      "Requirement already satisfied: trio-websocket~=0.9 in c:\\users\\nikhi\\anaconda3\\lib\\site-packages (from selenium>=4.11.2->google-images-downloader) (0.11.1)\n",
      "Requirement already satisfied: typing_extensions~=4.9 in c:\\users\\nikhi\\anaconda3\\lib\\site-packages (from selenium>=4.11.2->google-images-downloader) (4.9.0)\n",
      "Requirement already satisfied: websocket-client~=1.8 in c:\\users\\nikhi\\anaconda3\\lib\\site-packages (from selenium>=4.11.2->google-images-downloader) (1.8.0)\n",
      "Requirement already satisfied: colorama in c:\\users\\nikhi\\anaconda3\\lib\\site-packages (from tqdm>=4.66.1->google-images-downloader) (0.4.6)\n",
      "Requirement already satisfied: attrs>=23.2.0 in c:\\users\\nikhi\\anaconda3\\lib\\site-packages (from trio~=0.17->selenium>=4.11.2->google-images-downloader) (24.2.0)\n",
      "Requirement already satisfied: sortedcontainers in c:\\users\\nikhi\\anaconda3\\lib\\site-packages (from trio~=0.17->selenium>=4.11.2->google-images-downloader) (2.4.0)\n",
      "Requirement already satisfied: outcome in c:\\users\\nikhi\\anaconda3\\lib\\site-packages (from trio~=0.17->selenium>=4.11.2->google-images-downloader) (1.3.0.post0)\n",
      "Requirement already satisfied: sniffio>=1.3.0 in c:\\users\\nikhi\\anaconda3\\lib\\site-packages (from trio~=0.17->selenium>=4.11.2->google-images-downloader) (1.3.0)\n",
      "Requirement already satisfied: cffi>=1.14 in c:\\users\\nikhi\\anaconda3\\lib\\site-packages (from trio~=0.17->selenium>=4.11.2->google-images-downloader) (1.16.0)\n",
      "Requirement already satisfied: wsproto>=0.14 in c:\\users\\nikhi\\anaconda3\\lib\\site-packages (from trio-websocket~=0.9->selenium>=4.11.2->google-images-downloader) (1.2.0)\n",
      "Requirement already satisfied: PySocks!=1.5.7,<2.0,>=1.5.6 in c:\\users\\nikhi\\anaconda3\\lib\\site-packages (from urllib3[socks]<3,>=1.26->selenium>=4.11.2->google-images-downloader) (1.7.1)\n",
      "Requirement already satisfied: pycparser in c:\\users\\nikhi\\anaconda3\\lib\\site-packages (from cffi>=1.14->trio~=0.17->selenium>=4.11.2->google-images-downloader) (2.21)\n",
      "Requirement already satisfied: h11<1,>=0.9.0 in c:\\users\\nikhi\\anaconda3\\lib\\site-packages (from wsproto>=0.14->trio-websocket~=0.9->selenium>=4.11.2->google-images-downloader) (0.14.0)\n"
     ]
    }
   ],
   "source": [
    "!pip install google-images-downloader"
   ]
  },
  {
   "cell_type": "code",
   "execution_count": 2,
   "id": "e60ddafc-5807-46c8-8b40-a43ea1e38332",
   "metadata": {},
   "outputs": [],
   "source": [
    "from google_images_downloader import GoogleImagesDownloader"
   ]
  },
  {
   "cell_type": "code",
   "execution_count": 4,
   "id": "f77dff16-3fa3-439b-973d-c49503982354",
   "metadata": {},
   "outputs": [],
   "source": [
    "downloader = GoogleImagesDownloader(browser=\"chrome\", show=False, debug=False,quiet=False, disable_safeui=False)"
   ]
  },
  {
   "cell_type": "code",
   "execution_count": 8,
   "id": "3a1f69b6-3866-4faf-a76e-69b7a5d346bb",
   "metadata": {},
   "outputs": [],
   "source": [
    "downloader.download(\"bear\")  # Download 50 images in ./downloads folder\n",
    "\n",
    "downloader.download(\"cat\", destination=\"C:/Users/nikhi/Desktop/DR. PSR/downloads\")  # Download at specified destination\n",
    "\n",
    "downloader.download(\"bird\", limit=200)  # Download 100 images\n",
    "\n",
    "downloader.download(\"dog\", resize=(256, 256))  # Download with images resizing\n",
    "\n",
    "downloader.download(\"fish\", file_format=\"JPEG\")  # Download with images re-formatting (JPEG or PNG)\n",
    "\n",
    "downloader.close()  # Do not forget to close the driver"
   ]
  },
  {
   "cell_type": "code",
   "execution_count": null,
   "id": "d5d55d6e-10c3-4789-b9fd-9c03c4e9f9b6",
   "metadata": {},
   "outputs": [],
   "source": []
  }
 ],
 "metadata": {
  "kernelspec": {
   "display_name": "Python 3 (ipykernel)",
   "language": "python",
   "name": "python3"
  },
  "language_info": {
   "codemirror_mode": {
    "name": "ipython",
    "version": 3
   },
   "file_extension": ".py",
   "mimetype": "text/x-python",
   "name": "python",
   "nbconvert_exporter": "python",
   "pygments_lexer": "ipython3",
   "version": "3.11.7"
  }
 },
 "nbformat": 4,
 "nbformat_minor": 5
}
